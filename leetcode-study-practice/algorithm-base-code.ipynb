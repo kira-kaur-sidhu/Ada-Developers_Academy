{
 "cells": [
  {
   "cell_type": "markdown",
   "metadata": {},
   "source": [
    "Strings"
   ]
  },
  {
   "cell_type": "code",
   "execution_count": null,
   "metadata": {},
   "outputs": [],
   "source": [
    "str = \"Hello World!\"\n",
    "\n",
    "str.capitalize # capitalizes\n",
    "str.count(\"Hello\") # returns number of overlapping occurences of substring\n",
    "str.find(\"World!\") # returns boolean if it is a substring\n",
    "str.index(\"H\") # returns index of substring\n",
    "str.isalnum() # returns boolean if all characters in string is alphabetic\n",
    "str.isascii() # returns boolean if all characters are ASCII\n",
    "str.isdigit() # returns boolean if all characters are digits\n",
    "str.lower() # lowercases\n",
    "str.islower() # checks if its lower\n",
    "str.upper() # uppercases\n",
    "str.isupper() # checks if its uppercase\n",
    "str.isnumeric() # checks if string are numeric characters\n",
    "str.isspace() # checks if its a space\n",
    "\"\".join([\"Hello\", \"World\"]) # returns concaentation of strings\n",
    "str.replace(\"World\", \"Universe\") # replaces first instance of World with Universe\n",
    "str.rfind(\"l\") # returns highest index of string where substring is found\n",
    "str.split(\" \") # splits string\n",
    "str.strip() # stripes white space before and after string\n",
    "\n",
    "string =\"Hell.o W!or,ld\"\n",
    "\"\".join(filter(str.isalnum or str.isspace, string)).lower()"
   ]
  },
  {
   "cell_type": "markdown",
   "metadata": {},
   "source": [
    "Arrays"
   ]
  },
  {
   "cell_type": "code",
   "execution_count": null,
   "metadata": {},
   "outputs": [],
   "source": [
    "list = [\"1\", \"2\", \"3\", \"4\", \"5\"]\n",
    "\n",
    "list.append(\"6\")\n",
    "list.extend([\"8\", \"9\"])\n",
    "temp = list.index(\"5\")\n",
    "list.insert(6, \"7\")\n",
    "list.pop()\n",
    "list.remove(\"2\")\n",
    "list.reverse()"
   ]
  },
  {
   "cell_type": "markdown",
   "metadata": {},
   "source": [
    "Sets"
   ]
  },
  {
   "cell_type": "code",
   "execution_count": null,
   "metadata": {},
   "outputs": [],
   "source": [
    "hash_set = set([1, 2, 3])\n",
    "hash_set2 = set([3, 7, 8])\n",
    "set.add(4)\n",
    "set.remove(2)\n",
    "set.pop() # removes and returns a random element\n",
    "set.clear() # clears set\n",
    "hash_set.union(hash_set2)\n",
    "hash_set.intersection(hash_set2)\n",
    "hash_set.difference(hash_set2)\n",
    "hash_set.update([9, 10])\n",
    "hash_set.issubset(hash_set2)\n",
    "hash_set.issuperset(hash_set2)\n",
    "hash_set.isdisjoint(hash_set2)"
   ]
  },
  {
   "cell_type": "markdown",
   "metadata": {},
   "source": [
    "Binary Search"
   ]
  },
  {
   "cell_type": "code",
   "execution_count": null,
   "metadata": {},
   "outputs": [],
   "source": [
    "def binary_search(lst, value):\n",
    "    low = 0\n",
    "    high = len(lst) -1\n",
    "    while low <= high:\n",
    "        mid = (low + high)//2\n",
    "\n",
    "        if lst[mid] > value:\n",
    "            high = mid - 1\n",
    "        elif lst[mid] < value:\n",
    "            low = mid + 1\n",
    "        else:\n",
    "            return mid\n",
    "        \n",
    "    if lst[low] == value:\n",
    "        return low\n",
    "    return None"
   ]
  },
  {
   "cell_type": "markdown",
   "metadata": {},
   "source": [
    "Insertion Sort"
   ]
  },
  {
   "cell_type": "code",
   "execution_count": null,
   "metadata": {},
   "outputs": [],
   "source": [
    "def insertion_sort(array):\n",
    "    i = 1\n",
    "    while i < len(array):\n",
    "        to_insert = array[i]\n",
    "        insertion_index = i\n",
    "        # Search in the sorted portion of the array\n",
    "        # for the correct position to insert array[i]\n",
    "        while insertion_index > 0 and array[insertion_index-1] > to_insert:\n",
    "            array[insertion_index] = array[insertion_index-1]\n",
    "            insertion_index -= 1\n",
    "        array[insertion_index] = to_insert\n",
    "        i += 1"
   ]
  },
  {
   "attachments": {},
   "cell_type": "markdown",
   "metadata": {},
   "source": [
    "Linked Lists:\n",
    "- Algorithms:\n",
    "  - Tranversal (for insertion, deletion, reversa;)\n",
    "  - Hare & Tortoise (for cycle)"
   ]
  },
  {
   "cell_type": "code",
   "execution_count": null,
   "metadata": {},
   "outputs": [],
   "source": [
    "#Transversal\n",
    "class Node():\n",
    "    def __init__(self, val=0, next=None):\n",
    "        self.val = val\n",
    "        self.next = next\n",
    "\n",
    "def transverse_linked_lists(head):\n",
    "    temp = head\n",
    "    while temp and temp.next:\n",
    "        temp = temp.next\n",
    "    return head\n",
    "\n",
    "def hare_tortoise(head):\n",
    "    slow = head\n",
    "    fast = head\n",
    "    while fast and fast.next:\n",
    "        slow = slow.next\n",
    "        fast = fast.next.next\n",
    "\n",
    "    return head"
   ]
  },
  {
   "attachments": {},
   "cell_type": "markdown",
   "metadata": {},
   "source": [
    "Stacks and Queues\n",
    "- Stacks: add/remove element from end of array\n",
    "- Queues: remove element from front of array, add to back of array"
   ]
  },
  {
   "cell_type": "code",
   "execution_count": null,
   "metadata": {},
   "outputs": [],
   "source": [
    "class Stack:\n",
    "    def __init__(self, arr):\n",
    "        self.arr = arr\n",
    "    def push(self, elem):\n",
    "        self.arr.append(elem)\n",
    "    def pop(self):\n",
    "        return self.arr.pop()\n",
    "\n",
    "from collections import deque\n",
    "class Queue:\n",
    "    def __init__(self, arr):\n",
    "        self.arr = arr\n",
    "    def push(self, elem):\n",
    "        self.arr.append(elem)\n",
    "    def pop(self, elem):\n",
    "        return self.arr.popleft()"
   ]
  },
  {
   "attachments": {},
   "cell_type": "markdown",
   "metadata": {},
   "source": [
    "Matrices\n",
    "- Find coordinate of element in matrix"
   ]
  },
  {
   "cell_type": "code",
   "execution_count": null,
   "metadata": {},
   "outputs": [],
   "source": [
    "def find_element_within_matrix(matrix):\n",
    "    row_index = 0\n",
    "    col_index = 0\n",
    "    for row in matrix:\n",
    "        for col in matrix[0]:\n",
    "            row_index = row\n",
    "            col_index = col\n",
    "            \n",
    "    return (row_index, col_index)"
   ]
  },
  {
   "attachments": {},
   "cell_type": "markdown",
   "metadata": {},
   "source": [
    "Fibbonacci & Dynamic Programming\n",
    "    - Calculate fibbonacci with dynamic programming (cache)"
   ]
  },
  {
   "cell_type": "code",
   "execution_count": null,
   "metadata": {},
   "outputs": [],
   "source": [
    "def fib(n, cache={}):\n",
    "    if n < 2:\n",
    "        return n\n",
    "    elif not cache[n]:\n",
    "        cache[n] = fib(n-1) + fib(n-2)\n",
    "    return cache[n]"
   ]
  },
  {
   "attachments": {},
   "cell_type": "markdown",
   "metadata": {},
   "source": [
    "Two Pointers\n",
    "- Check an array from front and back\n",
    "  - Palindrome, area"
   ]
  },
  {
   "cell_type": "code",
   "execution_count": null,
   "metadata": {},
   "outputs": [],
   "source": [
    "def two_pointers(arr):\n",
    "    low = 0\n",
    "    high = len(arr)-1\n",
    "    while low <= high:\n",
    "        low += 1\n",
    "        high -= 1"
   ]
  }
 ],
 "metadata": {
  "language_info": {
   "name": "python"
  },
  "orig_nbformat": 4
 },
 "nbformat": 4,
 "nbformat_minor": 2
}
